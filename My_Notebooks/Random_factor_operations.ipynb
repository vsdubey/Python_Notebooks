{
 "cells": [
  {
   "cell_type": "code",
   "execution_count": 1,
   "metadata": {
    "collapsed": true
   },
   "outputs": [],
   "source": [
    "import factor_operations as fp"
   ]
  },
  {
   "cell_type": "code",
   "execution_count": 2,
   "metadata": {
    "collapsed": true
   },
   "outputs": [],
   "source": [
    "low = 1\n",
    "high = 10\n",
    "time_ = 40#time in seconds"
   ]
  },
  {
   "cell_type": "code",
   "execution_count": null,
   "metadata": {},
   "outputs": [
    {
     "name": "stdout",
     "output_type": "stream",
     "text": [
      "('time remaining', 40.0)\n",
      "What is 2/5 / 5/6?\n",
      "\n",
      "0.48\n",
      "Correct!\n",
      "\n",
      "('time remaining', 33.670000076293945)\n",
      "What is 5/8 * 1/4?\n",
      "\n",
      "0.15\n",
      "('The correct answer was', 0.16)\n",
      "Incorrect!\n",
      "\n",
      "('time remaining', 25.82800006866455)\n",
      "What is 6/5 + 7/3?\n",
      "\n",
      "3.53\n",
      "Correct!\n",
      "\n",
      "('time remaining', 15.628000020980835)\n",
      "What is 2 + 1/3?\n",
      "\n",
      "2.3333\n",
      "Correct!\n",
      "\n",
      "('time remaining', 9.503000020980835)\n",
      "What is 7/3 - 5?\n",
      "\n",
      "5\n",
      "('The correct answer was', -2.67)\n",
      "Incorrect!\n",
      "\n",
      "('time remaining', 25.820000171661377)\n",
      "What is 9/5 + 5/3?\n",
      "\n"
     ]
    }
   ],
   "source": [
    "fp.quiz(low,high,time_)"
   ]
  }
 ],
 "metadata": {
  "kernelspec": {
   "display_name": "Python 2",
   "language": "python",
   "name": "python2"
  },
  "language_info": {
   "codemirror_mode": {
    "name": "ipython",
    "version": 2
   },
   "file_extension": ".py",
   "mimetype": "text/x-python",
   "name": "python",
   "nbconvert_exporter": "python",
   "pygments_lexer": "ipython2",
   "version": "2.7.14"
  }
 },
 "nbformat": 4,
 "nbformat_minor": 2
}
