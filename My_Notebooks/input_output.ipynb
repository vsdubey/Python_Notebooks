{
 "cells": [
  {
   "cell_type": "code",
   "execution_count": 2,
   "metadata": {
    "collapsed": true
   },
   "outputs": [],
   "source": [
    "# f = open(\"test.txt\")"
   ]
  },
  {
   "cell_type": "code",
   "execution_count": 6,
   "metadata": {},
   "outputs": [
    {
     "name": "stdout",
     "output_type": "stream",
     "text": [
      "5\n",
      "6\n",
      "1\n",
      "(12, 5, 6, 1)\n"
     ]
    }
   ],
   "source": [
    "i = input()\n",
    "j = input()\n",
    "k = input()\n",
    "\n",
    "print(i+j+k, i, j ,k)"
   ]
  },
  {
   "cell_type": "code",
   "execution_count": 4,
   "metadata": {},
   "outputs": [
    {
     "name": "stdout",
     "output_type": "stream",
     "text": [
      "(['Date, Day, Sect, 1, 2, 3\\n', '1, Sun, 1-1, 123, 345, 678\\n', '2, Mon, 2-2, 234, 585, 282\\n', '3, Tue, 2-2, 231, 232, 686'], 'step1')\n",
      "(['Date, Day, Sect, 1, 2, 3', '1, Sun, 1-1, 123, 345, 678', '2, Mon, 2-2, 234, 585, 282', '3, Tue, 2-2, 231, 232, 686'], 'step2')\n",
      "[['Date', 'Day', 'Sect', '1', '2', '3'], ['1', 'Sun', '1-1', '123', '345', '678'], ['2', 'Mon', '2-2', '234', '585', '282'], ['3', 'Tue', '2-2', '231', '232', '686']]\n"
     ]
    }
   ],
   "source": [
    "lines = []\n",
    "with open(\"test.txt\",\"r+\") as f:\n",
    "    lines = f.readlines()\n",
    "    print(lines, 'step1')\n",
    "#     line = line.strip()\n",
    "    lines = [line.strip() for line in lines]\n",
    "    print(lines, 'step2')\n",
    "    lines = [line.split(\",\") for line in lines if line is not None ]\n",
    "    \n",
    "    \n",
    "    for i,line in enumerate(lines):\n",
    "        lines[i] = [word.strip() for word in line]\n",
    "    print(lines)"
   ]
  },
  {
   "cell_type": "code",
   "execution_count": 10,
   "metadata": {},
   "outputs": [
    {
     "data": {
      "text/plain": [
       "'Date, Day, Sect, 1, 2, 3\\n1, Sun, 1-1, 123, 345, 678\\n2, Mon, 2-2, 234, 585, 282\\n3, Tue, 2-2, 231, 232, 686'"
      ]
     },
     "execution_count": 10,
     "metadata": {},
     "output_type": "execute_result"
    }
   ],
   "source": [
    "f2 = open(\"test.txt\",\"r\")\n",
    "# print(f2)\n",
    "# f2.read()"
   ]
  },
  {
   "cell_type": "code",
   "execution_count": 15,
   "metadata": {},
   "outputs": [
    {
     "data": {
      "text/plain": [
       "False"
      ]
     },
     "execution_count": 15,
     "metadata": {},
     "output_type": "execute_result"
    }
   ],
   "source": [
    "stri = \"vijay\"\n",
    "stri.find('vij')\n",
    "stri.endswith('yo')\n",
    "stri."
   ]
  },
  {
   "cell_type": "code",
   "execution_count": 19,
   "metadata": {},
   "outputs": [
    {
     "data": {
      "text/plain": [
       "Counter({'a': 2, 'c': 2, 'e': 2, 'f': 5})"
      ]
     },
     "execution_count": 19,
     "metadata": {},
     "output_type": "execute_result"
    }
   ],
   "source": [
    "stri = \"aaeeccfffff\"\n",
    "from collections import Counter\n",
    "count = Counter(stri)\n",
    "# count."
   ]
  },
  {
   "cell_type": "code",
   "execution_count": 7,
   "metadata": {},
   "outputs": [
    {
     "data": {
      "text/plain": [
       "{'1': [], '2': [], '3': [], 'Date': [], 'Day': [], 'Sect': []}"
      ]
     },
     "execution_count": 7,
     "metadata": {},
     "output_type": "execute_result"
    }
   ],
   "source": [
    "#put in a dictionary\n",
    "dicti = {}\n",
    "lines[0]\n",
    "for key in lines[0]:\n",
    "    dicti[key] = []\n",
    "\n",
    "dicti"
   ]
  },
  {
   "cell_type": "code",
   "execution_count": 18,
   "metadata": {},
   "outputs": [
    {
     "name": "stdout",
     "output_type": "stream",
     "text": [
      "['aaien 12 13 39', 'aan 10', 'aanbad 12 13 14 57 58 38', 'aanbaden 12 13 14 57 58 38', 'aanbeden 12 13 14 57 58 38', 'aanbid  12 13 14 57 58 39', 'aanbidden 12 13 14 57 58 39', 'aanbidt 12 13 14 57 58 39', 'aanblik 27 28', 'aanbreken 39']\n"
     ]
    },
    {
     "data": {
      "text/plain": [
       "{'aaien': [12, 13, 39],\n",
       " 'aan': [10],\n",
       " 'aanbad': [12, 13, 14, 57, 58, 38],\n",
       " 'aanbaden': [12, 13, 14, 57, 58, 38],\n",
       " 'aanbeden': [12, 13, 14, 57, 58, 38],\n",
       " 'aanbid': [12, 13, 14, 57, 58, 39],\n",
       " 'aanbidden': [12, 13, 14, 57, 58, 39],\n",
       " 'aanbidt': [12, 13, 14, 57, 58, 39],\n",
       " 'aanblik': [27, 28],\n",
       " 'aanbreken': [39]}"
      ]
     },
     "execution_count": 18,
     "metadata": {},
     "output_type": "execute_result"
    }
   ],
   "source": [
    "answer = {}\n",
    "with open(\"test2.txt\",\"r+\") as f2:\n",
    "    lines = f2.readlines()\n",
    "    lines = [line.strip() for line in lines]\n",
    "    for line in lines:\n",
    "        if line is None:\n",
    "            continue\n",
    "        line = line.split()\n",
    "        answer[line[0]] = [int(i) for i in line[1:]]\n",
    "    \n",
    "    print(lines)\n",
    "\n",
    "answer"
   ]
  },
  {
   "cell_type": "code",
   "execution_count": 10,
   "metadata": {},
   "outputs": [
    {
     "name": "stdout",
     "output_type": "stream",
     "text": [
      "{0: 51, 1: 27, 2: 13, 3: 56}\n"
     ]
    }
   ],
   "source": [
    "a = [51,27,13,56]\n",
    "b = dict(enumerate(a))\n",
    "print(b)"
   ]
  },
  {
   "cell_type": "code",
   "execution_count": 2,
   "metadata": {
    "collapsed": true
   },
   "outputs": [],
   "source": [
    "import datetime\n",
    "# datetime."
   ]
  },
  {
   "cell_type": "code",
   "execution_count": null,
   "metadata": {
    "collapsed": true
   },
   "outputs": [],
   "source": [
    "04/20/2009; 04/20/09; 4/20/09; 4/3/09\n",
    "Mar-20-2009; Mar 20, 2009; March 20, 2009; Mar. 20, 2009; Mar 20 2009;\n",
    "20 Mar 2009; 20 March 2009; 20 Mar. 2009; 20 March, 2009\n",
    "Mar 20th, 2009; Mar 21st, 2009; Mar 22nd, 2009\n",
    "Feb 2009; Sep 2009; Oct 2010\n",
    "6/2008; 12/2009\n",
    "2009; 2010"
   ]
  },
  {
   "cell_type": "code",
   "execution_count": null,
   "metadata": {
    "collapsed": true
   },
   "outputs": [],
   "source": [
    "##dates extact\n",
    "##list or dictionary of months to \n",
    "##format of all possible dates ki list"
   ]
  },
  {
   "cell_type": "code",
   "execution_count": 1,
   "metadata": {},
   "outputs": [
    {
     "data": {
      "text/plain": [
       "{'01': ['Jan.', 'January', '01', 'JAN', '1']}"
      ]
     },
     "execution_count": 1,
     "metadata": {},
     "output_type": "execute_result"
    }
   ],
   "source": [
    "months = {'01' : ['Jan.', 'January', '01', 'JAN','1']}\n",
    "months"
   ]
  },
  {
   "cell_type": "code",
   "execution_count": null,
   "metadata": {
    "collapsed": true
   },
   "outputs": [],
   "source": [
    "date_format = ['']"
   ]
  },
  {
   "cell_type": "code",
   "execution_count": null,
   "metadata": {
    "collapsed": true
   },
   "outputs": [],
   "source": [
    "string_with_dates = \"\"\"\n",
    "                    entries are due by January 4th, 2017 at 8:00pm\n",
    "                    created 01/15/2005 by ACME Inc. and associates.\n",
    "                    \"\"\"\n",
    "matches = datefinder.find_dates(string_with_dates)\n",
    "for match in matches:\n",
    "    print match"
   ]
  },
  {
   "cell_type": "code",
   "execution_count": 18,
   "metadata": {
    "collapsed": true
   },
   "outputs": [],
   "source": []
  },
  {
   "cell_type": "code",
   "execution_count": 2,
   "metadata": {},
   "outputs": [
    {
     "name": "stdout",
     "output_type": "stream",
     "text": [
      "12/12/2017\n",
      "12/18/2017\n",
      "12 January 2017\n",
      "12/18/2017\n",
      "12/12/2017\n",
      "12 Jan 17\n"
     ]
    }
   ],
   "source": [
    "'''If 12/12/2017, 12 January 2017, and 12 Jan 17 are the only possible patterns then the following code that uses regex should be enough.'''\n",
    "\n",
    "string = 'I want to apply for leaves from 12/12/2017 to 12/18/2017 I want to apply for leaves from 12 January 2017 to ' \\\n",
    "       '12/18/2017 I want to apply for leaves from 12/12/2017 to 12 Jan 17 '\n",
    "string2 = 'entries are due by January 4th, 2017 at 8:00pm created 01/15/2005 by ACME Inc. and associates.'\n",
    "matches = re.findall('(\\d{2}[\\/ ](\\d{2}|January|Jan|February|Feb|March|Mar|April|Apr|May|May|June|Jun|July|Jul|August|Aug|September|Sep|October|Oct|November|Nov|December|Dec)[\\/ ]\\d{2,4})', \\\n",
    "                     string)\n",
    "\n",
    "for match in matches:\n",
    "    print(match[0])"
   ]
  },
  {
   "cell_type": "code",
   "execution_count": 19,
   "metadata": {
    "collapsed": true
   },
   "outputs": [],
   "source": [
    "import re"
   ]
  },
  {
   "cell_type": "code",
   "execution_count": 71,
   "metadata": {},
   "outputs": [
    {
     "data": {
      "text/plain": [
       "'20150405'"
      ]
     },
     "execution_count": 71,
     "metadata": {},
     "output_type": "execute_result"
    }
   ],
   "source": [
    "months_dict = {'JAN':'01', 'January' : '01','JANUARY':'01','Jan':'01',\n",
    "              'FEB':'02', 'February' : '02','FEBRUARY':'02','Feb':'02',\n",
    "              'MAR':'03', 'March' : '03','MARCH':'03','Mar':'03',\n",
    "              'APR':'04', 'April' : '04','APRIL':'04','Apr':'04',\n",
    "              'MAY':'05', 'May' : '05','MAY':'05','May':'05',\n",
    "              'JUN':'06', 'June' : '06','JUNE':'06','Jun':'06',\n",
    "              'JUL':'07', 'July' : '07','JULY':'07','Jul':'07',\n",
    "              'AUG':'08', 'August' : '08','AUGUST':'08','Aug':'08',\n",
    "              'SEP':'09', 'September' : '09','SEPTEMBER':'09','Sep':'09',\n",
    "              'OCT':'10', 'October' : '10','OCTOBER':'10','Oct':'10',\n",
    "              'NOV':'11', 'November' : '11','NOVEMBER':'11','Nov':'11',\n",
    "              'DEC':'12', 'December' : '12','DECEMBER':'12','Dec':'12'}\n",
    "def conv1(matches):\n",
    "    lis = matches.split('/')\n",
    "    if len(lis[0]) == 1:\n",
    "        lis[0] = '0'+lis[0]\n",
    "    if len(lis[1]) == 1:\n",
    "        lis[1] = '0'+lis[1]\n",
    "    return ''.join(s for s in lis[::-1])\n",
    "def conv2(matches):\n",
    "    lis = matches.split('-')\n",
    "    if len(lis[1]) == 1:\n",
    "        lis[1] = '0'+lis[1]\n",
    "    if len(lis[2]) == 1:\n",
    "        lis[2] = '0'+lis[2]\n",
    "    return ''.join(s for s in lis)\n",
    "def conv3(matches):\n",
    "    lis = matches.split('-')\n",
    "    lis[1] = months_dict[lis[1]]\n",
    "    if len(lis[2]) == 1:\n",
    "        lis[2] = '0'+lis[2]\n",
    "    return ''.join(s for s in lis)\n",
    "def conv4(matches):\n",
    "    lis = matches.split('-')\n",
    "    if len(lis[0]) == 1:\n",
    "        lis[0] = '0'+lis[0]\n",
    "    lis[1] = months_dict[lis[1]]\n",
    "    return ''.join(s for s in lis[::-1])\n",
    "#Feb. 12, 2016\n",
    "def conv5(matches):\n",
    "    lis = matches.split(' ')\n",
    "    lis = [s.strip('.,') for s in lis]\n",
    "    ret = lis[2]\n",
    "    lis[0] = months_dict[lis[0]]\n",
    "    ret = ret + lis[0]\n",
    "    if len(lis[1]) == 1:\n",
    "        lis[1] = '0'+lis[1]\n",
    "    ret= ret+lis[1]\n",
    "    return ret\n",
    "#November 12, 2007\n",
    "def conv6(matches):\n",
    "    lis = matches.split(' ')\n",
    "    lis = [s.strip('.,') for s in lis]\n",
    "    ret = lis[2]\n",
    "    lis[0] = months_dict[lis[0]]\n",
    "    ret = ret + lis[0]\n",
    "    if len(lis[1]) == 1:\n",
    "        lis[1] = '0'+lis[1]\n",
    "    ret= ret+lis[1]\n",
    "    return ret\n",
    "    \n",
    "#15APR2015 or 15APRIL2015\n",
    "def conv7(matches):\n",
    "#     print(matches[:(len(matches)-4)])\n",
    "    r = re.match(r'([0-9]+)([a-zA-Z]+)(\\d{4})',matches)\n",
    "#     print(r)\n",
    "    lis = []\n",
    "    lis.append(r.group(3))\n",
    "    lis.append(months_dict[r.group(2)])\n",
    "    lis.append(r.group(1))\n",
    "    if len(lis[2]) == 1:\n",
    "        lis[2] = '0'+lis[2]\n",
    "#     print(lis)\n",
    "    \n",
    "    return ''.join(s for s in lis)\n",
    "\n",
    "\n",
    "conv7('5APRIL2015')"
   ]
  },
  {
   "cell_type": "code",
   "execution_count": 73,
   "metadata": {},
   "outputs": [
    {
     "name": "stdout",
     "output_type": "stream",
     "text": [
      "['3/12/2017', '2/18/2017', '12/18/2017', '12/12/2017']\n",
      "['2000-03-13', '2014-11-31']\n",
      "['2000-February-13', '2000-Feb-13', '2000-FEB-13']\n",
      "['5-MARCH-2018', '05-MARCH-2018', '5-MAR-2018', '5-March-2018', '5-JUN-2015', '05-Sep-2018', '29-SEPTEMBER-1885']\n",
      "['Feb. 12, 2007']\n",
      "['November 2, 2007', 'December 2, 2014', 'JULY 2, 1776']\n",
      "['15APR2015', '14APRIL2017', '5April2017', '4APRIL2017']\n",
      "###############\n",
      "['20171203', '20171802', '20171812', '20171212']\n",
      "['20000313', '20141131']\n",
      "['20000213', '20000213', '20000213']\n",
      "['20180305', '20180305', '20180305', '20180305', '20150605', '20180905', '18850929']\n",
      "['20070212']\n",
      "['20071102', '20141202', '17760702']\n",
      "['20150415', '20170414', '20170405', '20170404']\n",
      "{449: '18850929', 386: '20141202', 196: '20180305', 133: '20171212', 471: '20170414', 264: '20000213', 407: '17760702', 365: '20071102', 148: '20180305', 213: '20000313', 279: '20150605', 90: '20171812', 346: '20070212', 32: '20171203', 228: '20000213', 165: '20180305', 487: '20170405', 502: '20170404', 301: '20150415', 45: '20171802', 435: '20180905', 182: '20180305', 248: '20000213', 315: '20141131'}\n",
      "24\n",
      "('20171203', 32)\n",
      "('20171802', 45)\n",
      "('20171812', 90)\n",
      "('20171212', 133)\n",
      "('20180305', 148)\n",
      "('20180305', 165)\n",
      "('20180305', 182)\n",
      "('20180305', 196)\n",
      "('20000313', 213)\n",
      "('20000213', 228)\n",
      "('20000213', 248)\n",
      "('20000213', 264)\n",
      "('20150605', 279)\n",
      "('20150415', 301)\n",
      "('20141131', 315)\n",
      "('20070212', 346)\n",
      "('20071102', 365)\n",
      "('20141202', 386)\n",
      "('17760702', 407)\n",
      "('20180905', 435)\n",
      "('18850929', 449)\n",
      "('20170414', 471)\n",
      "('20170405', 487)\n",
      "('20170404', 502)\n"
     ]
    }
   ],
   "source": [
    "string ='I want to apply for leaves from 3/12/2017 to 2/18/2017 \\\n",
    "I want to apply for leaves from to 12/18/2017 I want to apply for \\\n",
    "leaves from 12/12/2017  to 5-MARCH-2018 and 05-MARCH-2018 as \\\n",
    "5-MAR-2018 as 5-March-2018 and 2000-03-13 and 2000-February-13 and\\\n",
    "2000-Feb-13 and 2000-FEB-13 as 5-JUN-2015 ans to but 15APR2015 \\\n",
    "and 2014-11-31 to 12 Jan, 2017 and Feb. 12, 2007  and November 2, 2007 \\\n",
    "and December 2, 2014 and JULY 2, 1776 and final date 05-Sep-2018 is\\\n",
    "29-SEPTEMBER-1885 and 14APRIL2017 and 5April2017 and 4APRIL2017'\n",
    "##\n",
    "##\n",
    "matches1 = re.findall('(\\d{1,2}[\\/]\\d{1,2}[\\/]\\d{4})', string) #3/12/2017 day/month\n",
    "matches1_ = re.finditer('(\\d{1,2}[\\/]\\d{1,2}[\\/]\\d{4})', string)\n",
    "indices1 = [m.start(0) for m in matches1_]\n",
    "matches2 = re.findall('(\\d{4}[\\-]\\d{1,2}[\\-]\\d{1,2})', string)\n",
    "matches2_ = re.finditer('(\\d{4}[\\-]\\d{1,2}[\\-]\\d{1,2})', string)\n",
    "indices2 = [m.start(0) for m in matches2_]\n",
    "matches3 = re.findall('(\\d{4}[\\-][JFMASOND][a-zA-Z]{2,8}[\\-]\\d{1,2})', string)\n",
    "matches3_ = re.finditer('(\\d{4}[\\-][JFMASOND][a-zA-Z]{2,8}[\\-]\\d{1,2})', string)\n",
    "indices3 = [m.start(0) for m in matches3_]\n",
    "matches4 = re.findall('(\\d{1,2}[\\-][JFMASOND][a-zA-Z]{2,8}[\\-]\\d{4})', string)\n",
    "matches4_ = re.finditer('(\\d{1,2}[\\-][JFMASOND][a-zA-Z]{2,8}[\\-]\\d{4})', string)\n",
    "indices4 = [m.start(0) for m in matches4_]\n",
    "\n",
    "matches5 = re.findall('([JFMASOND][a-zA-Z]{2}[\\.]\\s\\d{1,2}[\\,]\\s\\d{4})', string)\n",
    "matches5_ = re.finditer('([JFMASOND][a-zA-Z]{2}[\\.]\\s\\d{1,2}[\\,]\\s\\d{4})', string)\n",
    "indices5 = [m.start(0) for m in matches5_]\n",
    "matches6 = re.findall('([JFMASOND][a-zA-Z]{2,8}\\s\\d{1,2}[\\,]\\s\\d{4})', string) \n",
    "matches6_ = re.finditer('([JFMASOND][a-zA-Z]{2,8}\\s\\d{1,2}[\\,]\\s\\d{4})', string)\n",
    "indices6 = [m.start(0) for m in matches6_]\n",
    "\n",
    "matches7 = re.findall('(\\d{1,2}[JFMASOND][a-zA-Z]{2,8}\\d{4})', string)#15APR2015\n",
    "matches7_ = re.finditer('(\\d{1,2}[JFMASOND][a-zA-Z]{2,8}\\d{4})', string)\n",
    "indices7 = [m.start(0) for m in matches7_]\n",
    "\n",
    "print(matches1)\n",
    "print(matches2)\n",
    "print(matches3)\n",
    "print(matches4)\n",
    "print(matches5)\n",
    "print(matches6)\n",
    "print(matches7)\n",
    "# print(matches8)\n",
    "print('###############')\n",
    "matches1 = [conv1(matches) for matches in matches1]\n",
    "matches2 = [conv2(matches) for matches in matches2]\n",
    "matches3 = [conv3(matches) for matches in matches3]\n",
    "matches4 = [conv4(matches) for matches in matches4]\n",
    "matches5 = [conv5(matches) for matches in matches5]\n",
    "matches6 = [conv6(matches) for matches in matches6]\n",
    "matches7 = [conv7(matches) for matches in matches7]\n",
    "\n",
    "print(matches1)\n",
    "# print(indices1)\n",
    "# print(coverted1)\n",
    "print(matches2)\n",
    "# print(indices2)\n",
    "# print(coverted2)\n",
    "print(matches3)\n",
    "# print(indices3)\n",
    "# print(coverted3)\n",
    "print(matches4)\n",
    "# print(indices4)\n",
    "# print(coverted4)\n",
    "print(matches5)\n",
    "print(matches6)\n",
    "print(matches7)\n",
    "\n",
    "big_dict = {}\n",
    "big_dict.update(dict(zip(indices1, matches1)))\n",
    "big_dict.update(dict(zip(indices2, matches2)))\n",
    "big_dict.update(dict(zip(indices3, matches3)))\n",
    "big_dict.update(dict(zip(indices4, matches4)))\n",
    "big_dict.update(dict(zip(indices5, matches5)))\n",
    "big_dict.update(dict(zip(indices6, matches6)))\n",
    "big_dict.update(dict(zip(indices7, matches7)))\n",
    "# big_dict.update(dict(zip(indices8, matches8)))\n",
    "\n",
    "print(big_dict)\n",
    "print(len(big_dict))\n",
    "for key in sorted(big_dict.keys()): ##sorted thin is imp\n",
    "    print(big_dict[key], key)\n"
   ]
  },
  {
   "cell_type": "code",
   "execution_count": 40,
   "metadata": {
    "collapsed": true
   },
   "outputs": [],
   "source": [
    "string = 'I want to apply for leaves from 3/12/2017 to 2/18/2017 I want to apply for leaves from to ' \\\n",
    "       '12/18/2017 I want to apply for leaves from 12/12/2017  and 2000-03-13 and 2000-February-13 as 5-JUN-2015 ans \\\n",
    "       to but 15APR2015 and 2014-11-31 to 12 Jan 17 and Feb. 12, 2007  and November 2, 2007 and December 2, 2014'"
   ]
  }
 ],
 "metadata": {
  "kernelspec": {
   "display_name": "Python 2",
   "language": "python",
   "name": "python2"
  },
  "language_info": {
   "codemirror_mode": {
    "name": "ipython",
    "version": 2
   },
   "file_extension": ".py",
   "mimetype": "text/x-python",
   "name": "python",
   "nbconvert_exporter": "python",
   "pygments_lexer": "ipython2",
   "version": "2.7.14"
  }
 },
 "nbformat": 4,
 "nbformat_minor": 2
}
