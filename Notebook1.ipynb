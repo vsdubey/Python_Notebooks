{
 "cells": [
  {
   "cell_type": "code",
   "execution_count": 1,
   "metadata": {
    "collapsed": true
   },
   "outputs": [],
   "source": [
    "import numpy as np\n",
    "from collections import Counter\n",
    "from itertools import permutations \n",
    "import math"
   ]
  },
  {
   "cell_type": "markdown",
   "metadata": {},
   "source": [
    "# list comprehension\n",
    "### https://towardsdatascience.com/how-list-comprehensions-can-help-your-code-look-better-and-run-smoother-3cf8f87172ae"
   ]
  },
  {
   "cell_type": "code",
   "execution_count": 5,
   "metadata": {},
   "outputs": [
    {
     "name": "stdout",
     "output_type": "stream",
     "text": [
      "[1, 0, 0, 0, 1, 0, 0, 0, 1]\n",
      "[2, 4, 6, 8]\n"
     ]
    }
   ],
   "source": [
    "# another_list = [(i*7 + 5) % 13 if i%2==0 else (i*5 + 7) % 23 for i in range(k) ]\n",
    "\n",
    "id_matrix = [[1,0,0],\n",
    "             [0,1,0],\n",
    "             [0,0,1]]\n",
    "\n",
    "vector_version = [n for row in id_matrix for n in row]\n",
    "print(vector_version)\n",
    "\n",
    "some_list = [1,2,3,4,5,6,7,8,9]\n",
    "\n",
    "only_even = [n for n in some_list if n%2 == 0]\n",
    "print(only_even)\n",
    "\n",
    "def num_object(k):\n",
    "    return {'number':k, 'double':2*k}\n",
    "\n",
    "many_instances = [num_object(k) for k in range(20)]\n",
    "\n",
    "string_first_100 = [str(k) for k in range(100)]\n",
    "single_string = ', '.join( [str(k) for k in range(100)] )\n",
    "\n",
    "dict_of_doubles = {\n",
    "                   str(k) : 2*k for k in range(100)\n",
    "                  }\n",
    "dict_of_multiples_of_4 = {\n",
    "                   str(k) : 2*k for k in range(100) if k%2==0\n",
    "                  }\n",
    "\n"
   ]
  },
  {
   "cell_type": "markdown",
   "metadata": {},
   "source": [
    "### https://towardsdatascience.com/pythons-list-generators-what-when-how-and-why-2a560abd3879\n",
    "## To do"
   ]
  },
  {
   "cell_type": "code",
   "execution_count": null,
   "metadata": {
    "collapsed": true
   },
   "outputs": [],
   "source": []
  },
  {
   "cell_type": "code",
   "execution_count": null,
   "metadata": {
    "collapsed": true
   },
   "outputs": [],
   "source": []
  },
  {
   "cell_type": "code",
   "execution_count": 21,
   "metadata": {
    "collapsed": true
   },
   "outputs": [],
   "source": [
    "def shortestPalindrome(s):\n",
    "    \"\"\"\n",
    "    :type s: str\n",
    "    :rtype: str\n",
    "    \"\"\"\n",
    "    if s == s[::-1]:\n",
    "        return s\n",
    "\n",
    "    for i in range(0,len(s)):\n",
    "        temp = s[0:-(1+i)]\n",
    "#         print(temp)\n",
    "#         print(s[-(1+i):][::-1]+s, 'haha')\n",
    "\n",
    "        if temp == temp[::-1]:            \n",
    "            return s[-(1+i):][::-1]+s\n",
    "    return \"\""
   ]
  },
  {
   "cell_type": "code",
   "execution_count": 22,
   "metadata": {},
   "outputs": [
    {
     "data": {
      "text/plain": [
       "'dcbabcd'"
      ]
     },
     "execution_count": 22,
     "metadata": {},
     "output_type": "execute_result"
    }
   ],
   "source": [
    "shortestPalindrome(\"abcd\")"
   ]
  },
  {
   "cell_type": "code",
   "execution_count": null,
   "metadata": {
    "collapsed": true
   },
   "outputs": [],
   "source": [
    "primeFac = []\n",
    "c = []\n",
    "t = int(input())\n",
    "\n",
    "def myPrime(n):\n",
    "\td = 2\n",
    "\twhile(d*d <= n):\n",
    "\t\twhile((n % d) == 0):\n",
    "\t\t\tif(d not in primeFac):\n",
    "\t\t\t\tprimeFac.append(d)\n",
    "\t\t\t\tc.append(1)\n",
    "\t\t\telse:\n",
    "\t\t\t\tidx = primeFac.index(d)\n",
    "\t\t\t\tc[idx] += 1\n",
    "\t\t\tn //= d\n",
    "\t\td += 1\n",
    "\tif(n > 1):\n",
    "\t\tif(n not in primeFac):\n",
    "\t\t\tprimeFac.append(n)\n",
    "\t\t\tc.append(1)\n",
    "\t\telse:\n",
    "\t\t\tidx = primeFac.index(n)\n",
    "\t\t\tc[idx] += 1\n",
    "\n",
    "def findFac(arr):\n",
    "\tfor i in arr:\n",
    "\t\tmyPrime(i)\n",
    "\tcount = 1\n",
    "\tfor i in c:\n",
    "\t\tcount *= (i+1)\n",
    "\treturn count\n",
    "\n",
    "while(t > 0):\n",
    "\ta = int(input())\n",
    "\tarr = [int(x) for x in input().split()]\n",
    "\tdel primeFac[:]\n",
    "\tdel c[:]\n",
    "\tprint(findFac(arr))\n",
    "\tt -= 1"
   ]
  },
  {
   "cell_type": "code",
   "execution_count": null,
   "metadata": {
    "collapsed": true
   },
   "outputs": [],
   "source": [
    "def sieve(n):\n",
    "    prime"
   ]
  },
  {
   "cell_type": "code",
   "execution_count": 14,
   "metadata": {},
   "outputs": [
    {
     "name": "stdout",
     "output_type": "stream",
     "text": [
      "231\n",
      "321\n",
      "123\n",
      "213\n",
      "312\n",
      "132\n"
     ]
    }
   ],
   "source": [
    "s  = '123'\n",
    "permlist = set(permutations(s))\n",
    "for per in permlist:\n",
    "    per = ''.join(per)\n",
    "    print(per)"
   ]
  },
  {
   "cell_type": "code",
   "execution_count": 58,
   "metadata": {},
   "outputs": [
    {
     "name": "stdout",
     "output_type": "stream",
     "text": [
      "0\n"
     ]
    }
   ],
   "source": [
    "s = '1234'\n",
    "cntr = Counter(s)\n",
    "print(cntr['10'])"
   ]
  },
  {
   "cell_type": "code",
   "execution_count": 54,
   "metadata": {
    "collapsed": true
   },
   "outputs": [],
   "source": [
    "def isperfec(n):\n",
    "    return n == int(math.sqrt(n))**2\n",
    "\n",
    "def isfib(n):\n",
    "    if isperfec((5*n*n)+4) or isperfec((5*n*n)-4):\n",
    "        return True\n",
    "    else:\n",
    "        return False\n",
    "def checkperm(s):\n",
    "    if isfib(int(s)):\n",
    "        print('possible')   \n",
    "        return \n",
    "    permlist = set(permutations(s))\n",
    "    for per in permlist:\n",
    "        per = ''.join(per)\n",
    "        print(int(per))\n",
    "        if isfib(int(per)):\n",
    "            print('possible')   \n",
    "            return \n",
    "    print('impossible')"
   ]
  },
  {
   "cell_type": "code",
   "execution_count": 55,
   "metadata": {},
   "outputs": [
    {
     "name": "stdout",
     "output_type": "stream",
     "text": [
      "possible\n"
     ]
    }
   ],
   "source": [
    "s  = '144'\n",
    "checkperm(s)\n",
    "    "
   ]
  },
  {
   "cell_type": "code",
   "execution_count": 25,
   "metadata": {
    "collapsed": true
   },
   "outputs": [],
   "source": [
    "def fib(n):\n",
    "    if n == 0 or n == 1:\n",
    "        return 1\n",
    "    lis = [0]*(n+1)\n",
    "    lis[0] = lis[1] = 1\n",
    "    for i in range(2,n+1):\n",
    "        lis[i] = lis[i-1]+lis[i-2]\n",
    "    print(lis)"
   ]
  },
  {
   "cell_type": "code",
   "execution_count": 27,
   "metadata": {},
   "outputs": [
    {
     "name": "stdout",
     "output_type": "stream",
     "text": [
      "[1, 1, 2, 3, 5, 8, 13, 21, 34, 55, 89, 144, 233, 377, 610, 987, 1597, 2584, 4181, 6765, 10946]\n"
     ]
    }
   ],
   "source": [
    "fib(20)"
   ]
  },
  {
   "cell_type": "code",
   "execution_count": 23,
   "metadata": {},
   "outputs": [
    {
     "data": {
      "text/plain": [
       "1"
      ]
     },
     "execution_count": 23,
     "metadata": {},
     "output_type": "execute_result"
    }
   ],
   "source": [
    "s = 'vijayy'\n",
    "s2 = 'vijay'\n",
    "cnt = s.count('v')\n",
    "cnt"
   ]
  },
  {
   "cell_type": "code",
   "execution_count": 24,
   "metadata": {},
   "outputs": [
    {
     "data": {
      "text/plain": [
       "1"
      ]
     },
     "execution_count": 24,
     "metadata": {},
     "output_type": "execute_result"
    }
   ],
   "source": [
    "#compare two dictionaries\n",
    "d1 = Counter(s)\n",
    "d2 = Counter(s2)\n",
    "\n",
    "# d1 == d2\n",
    "cmp(d1,d2)"
   ]
  },
  {
   "cell_type": "code",
   "execution_count": 10,
   "metadata": {},
   "outputs": [
    {
     "name": "stdout",
     "output_type": "stream",
     "text": [
      "['b', 'a', 'a', 'a']\n"
     ]
    },
    {
     "data": {
      "text/plain": [
       "(['b', 'a'], ['a', 'a'])"
      ]
     },
     "execution_count": 10,
     "metadata": {},
     "output_type": "execute_result"
    }
   ],
   "source": [
    "S = 'aaab'\n",
    "a = sorted(sorted(S), key=S.count)\n",
    "h = len(a) / 2\n",
    "print(a)\n",
    "a[1::2],  a[::2]\n",
    "a[:h], a[h:]"
   ]
  },
  {
   "cell_type": "code",
   "execution_count": 4,
   "metadata": {
    "collapsed": true
   },
   "outputs": [],
   "source": [
    "temp = s[-3:]+s[:-3]\n",
    "temp = 'vijay'"
   ]
  },
  {
   "cell_type": "code",
   "execution_count": 5,
   "metadata": {},
   "outputs": [
    {
     "data": {
      "text/plain": [
       "True"
      ]
     },
     "execution_count": 5,
     "metadata": {},
     "output_type": "execute_result"
    }
   ],
   "source": [
    "temp == s"
   ]
  },
  {
   "cell_type": "code",
   "execution_count": 37,
   "metadata": {
    "collapsed": true
   },
   "outputs": [],
   "source": [
    "def cnt(s,m,n):\n",
    "    flag, count= 1,0\n",
    "#     count = 0\n",
    "    temp = s\n",
    "    while True:\n",
    "        if flag == 1:\n",
    "            temp = temp[-n:]+temp[:-n]\n",
    "            print(temp,s)\n",
    "            count+=1\n",
    "            if temp == s:\n",
    "                break\n",
    "        elif flag == 0:\n",
    "            temp = temp[-m:]+temp[:-m]\n",
    "            print(temp,s)\n",
    "            count+=1\n",
    "            if temp == s:\n",
    "                break\n",
    "        \n",
    "        flag = 1-flag;\n",
    "    return count"
   ]
  },
  {
   "cell_type": "code",
   "execution_count": 38,
   "metadata": {},
   "outputs": [
    {
     "name": "stdout",
     "output_type": "stream",
     "text": [
      "('xyvijayisse', 'vijayissexy')\n",
      "('ssexyvijayi', 'vijayissexy')\n",
      "('yissexyvija', 'vijayissexy')\n",
      "('ijayissexyv', 'vijayissexy')\n",
      "('yvijayissex', 'vijayissexy')\n",
      "('sexyvijayis', 'vijayissexy')\n",
      "('issexyvijay', 'vijayissexy')\n",
      "('jayissexyvi', 'vijayissexy')\n",
      "('vijayissexy', 'vijayissexy')\n"
     ]
    },
    {
     "data": {
      "text/plain": [
       "9"
      ]
     },
     "execution_count": 38,
     "metadata": {},
     "output_type": "execute_result"
    }
   ],
   "source": [
    "cnt('vijayissexy',3,2)"
   ]
  },
  {
   "cell_type": "code",
   "execution_count": 2,
   "metadata": {},
   "outputs": [
    {
     "data": {
      "text/plain": [
       "'https://www.reddit.com/r/Python/comments/3639nl/what_is_the_most_beautiful_piece_of_python_code/'"
      ]
     },
     "execution_count": 2,
     "metadata": {},
     "output_type": "execute_result"
    }
   ],
   "source": [
    "'''https://www.reddit.com/r/Python/comments/3639nl/what_is_the_most_beautiful_piece_of_python_code/'''"
   ]
  },
  {
   "cell_type": "code",
   "execution_count": 29,
   "metadata": {},
   "outputs": [
    {
     "data": {
      "text/plain": [
       "1"
      ]
     },
     "execution_count": 29,
     "metadata": {},
     "output_type": "execute_result"
    }
   ],
   "source": [
    "strin = 'vijay'\n",
    "strin.find('ija')\n",
    "##Press Shift+Tab to know about the functions\n",
    "# strin.split()"
   ]
  },
  {
   "cell_type": "markdown",
   "metadata": {},
   "source": [
    "'''See for beautiful Notebooks for Python concepts'''\n",
    "1. http://nbviewer.jupyter.org/github/jrjohansson/scientific-python-lectures/tree/master/   --- part of lecture\n"
   ]
  },
  {
   "cell_type": "code",
   "execution_count": 30,
   "metadata": {
    "collapsed": true
   },
   "outputs": [],
   "source": [
    "def reverseWords( A):\n",
    "    if not A: return ''\n",
    "    split = A.split(' ')\n",
    "    split = split[::-1]  ##reverse the array\n",
    "    return ' '.join(split)"
   ]
  },
  {
   "cell_type": "code",
   "execution_count": 32,
   "metadata": {},
   "outputs": [
    {
     "data": {
      "text/plain": [
       "'vijay is name my'"
      ]
     },
     "execution_count": 32,
     "metadata": {},
     "output_type": "execute_result"
    }
   ],
   "source": [
    "a = ['my','name','is']\n",
    "b = 'my name is vijay'\n",
    "reverseWords(b)"
   ]
  },
  {
   "cell_type": "code",
   "execution_count": 7,
   "metadata": {},
   "outputs": [
    {
     "data": {
      "text/plain": [
       "'this-is-a-sentence'"
      ]
     },
     "execution_count": 7,
     "metadata": {},
     "output_type": "execute_result"
    }
   ],
   "source": [
    "sentence = ['this','is','a','sentence']\n",
    "'-'.join(sentence) ##JOIN   -- returns a string"
   ]
  },
  {
   "cell_type": "code",
   "execution_count": 8,
   "metadata": {},
   "outputs": [
    {
     "data": {
      "text/plain": [
       "'\"this\", \"is\", \"a\", \"sentence\"'"
      ]
     },
     "execution_count": 8,
     "metadata": {},
     "output_type": "execute_result"
    }
   ],
   "source": [
    "', '.join(['\"%s\"' % w for w in sentence])"
   ]
  },
  {
   "cell_type": "code",
   "execution_count": 33,
   "metadata": {
    "collapsed": true
   },
   "outputs": [
    {
     "name": "stdout",
     "output_type": "stream",
     "text": [
      "1\n",
      "2\n",
      "3\n",
      "4\n",
      "7\n",
      "6\n",
      "7\n",
      "8\n",
      "9\n",
      "1\n",
      "2\n",
      "3\n",
      "4\n",
      "5\n",
      "8\n",
      "9\n",
      "10\n"
     ]
    }
   ],
   "source": [
    "'''A for loop assigns a variable (in this case i) to the next element in the list/iterable at the start of each iteration. \n",
    "    This means that no matter what you do inside the loop, i will become the next element.\n",
    "    The while loop has no such restriction.Thats why the weird behaviour'''\n",
    "for i in range(1,10):\n",
    "    if(i ==5):\n",
    "        i=7\n",
    "    print(i)\n",
    "j = 0\n",
    "while(j <10 ):\n",
    "    if( j == 5):\n",
    "        j =7\n",
    "    j+=1\n",
    "    print(j)"
   ]
  },
  {
   "cell_type": "code",
   "execution_count": 54,
   "metadata": {},
   "outputs": [
    {
     "name": "stdout",
     "output_type": "stream",
     "text": [
      "10\n",
      "9\n",
      "8\n",
      "7\n",
      "6\n",
      "5\n",
      "4\n",
      "3\n",
      "2\n"
     ]
    }
   ],
   "source": [
    "#retu0rn None in python to return nothing\n",
    "'''Member functions of a class are called as a member function on the instance, self'''\n",
    "for g in range(10,1,-1): ##reverse loop python\n",
    "    print(g)"
   ]
  },
  {
   "cell_type": "code",
   "execution_count": 9,
   "metadata": {},
   "outputs": [
    {
     "data": {
      "text/plain": [
       "2"
      ]
     },
     "execution_count": 9,
     "metadata": {},
     "output_type": "execute_result"
    }
   ],
   "source": [
    "def solve( A):\n",
    "    if not A: return count\n",
    "    if ispalin(A): return 0\n",
    "\n",
    "    for i in range(1,len(A)):\n",
    "        if ispalin(A[:-i]): return i\n",
    "\n",
    "    return len(A)-1\n",
    "\n",
    "\n",
    "def ispalin(string):\n",
    "    if not string: return True\n",
    "    if string == string[::-1]:\n",
    "        return True\n",
    "    else:\n",
    "        return False\n",
    "solve(\"aaabc\")"
   ]
  },
  {
   "cell_type": "code",
   "execution_count": 34,
   "metadata": {
    "collapsed": true
   },
   "outputs": [],
   "source": [
    "'''https://stackoverflow.com/questions/12683749/given-an-array-a1b2c3d4-convert-to-abcd1234'''\n",
    "a = [1,'a',2,'b',3,'c',4,'d']\n",
    "str(a)\n",
    "# for i in a:\n",
    "str1 = ''.join(str(c) for c in a)\n",
    "\n",
    "# ','.join(a)"
   ]
  },
  {
   "cell_type": "code",
   "execution_count": 11,
   "metadata": {},
   "outputs": [
    {
     "data": {
      "text/plain": [
       "['1', '2', '3', '4', 'a', 'b', 'c', 'd']"
      ]
     },
     "execution_count": 11,
     "metadata": {},
     "output_type": "execute_result"
    }
   ],
   "source": [
    "'''pythonic --- '''\n",
    "list_chars_a = list(str1)\n",
    "list_chars_a = list_chars_a[0:len(list_chars_a):2] + list_chars_a[1:len(list_chars_a):2]\n",
    "list_chars_a"
   ]
  },
  {
   "cell_type": "code",
   "execution_count": 12,
   "metadata": {},
   "outputs": [
    {
     "data": {
      "text/plain": [
       "array([2, 3, 4])"
      ]
     },
     "execution_count": 12,
     "metadata": {},
     "output_type": "execute_result"
    }
   ],
   "source": [
    "'''indices of the array if it would be sorted'''\n",
    "arr = [3,2,4]\n",
    "np.argsort(arr)\n",
    "np.sort(arr)"
   ]
  },
  {
   "cell_type": "code",
   "execution_count": 37,
   "metadata": {},
   "outputs": [
    {
     "name": "stdout",
     "output_type": "stream",
     "text": [
      "({}, 'xx')\n",
      "{1: 2, 2: 1, 3: 2, 4: 2, 6: 1, 8: 1}\n"
     ]
    }
   ],
   "source": [
    "def majorityElement( nums):   ##SORTING wala method for this also  --M3\n",
    "        \"\"\"\n",
    "        :type nums: List[int]\n",
    "        :rtype: int\n",
    "        \"\"\"\n",
    "        count = {}\n",
    "        print(count,'xx')\n",
    "        for ele in nums:\n",
    "#             if not ele in count:   '''in is the intended way to test for the existence of a key in a dict.'''\n",
    "#                 count[ele] = 1\n",
    "            if count.get(ele) is None:    ##ANOTHER way  - METHOD 2\n",
    "                count[ele] = 1\n",
    "            else:\n",
    "                count[ele] = count[ele]+1\n",
    "        print(count)\n",
    "\n",
    "nums = [1,3,4,2,6,1,3,4,8]\n",
    "majorityElement(nums)\n",
    "##can use Default dict also\n",
    "\n",
    "##"
   ]
  },
  {
   "cell_type": "code",
   "execution_count": 47,
   "metadata": {},
   "outputs": [
    {
     "name": "stdout",
     "output_type": "stream",
     "text": [
      "[1, 3, 4, 2, 6, 1, 3, 4, 8]\n",
      "[1, 3, 4, 2, 6, 1, 3, 4, 8]\n",
      "[1, 3, 9, 2, 6, 1, 3, 4, 8]\n",
      "[1, 3, 9, 2, 6, 1, 3, 4, 8]\n"
     ]
    }
   ],
   "source": [
    "nums = [1,3,4,2,6,1,3,4,8]\n",
    "nums.count(1)\n",
    "nums2  = nums\n",
    "print(nums)\n",
    "print(nums2)\n",
    "##Changing\n",
    "nums[2] = 9\n",
    "\n",
    "##Both change\n",
    "print(nums)\n",
    "print(nums2)"
   ]
  },
  {
   "cell_type": "code",
   "execution_count": 14,
   "metadata": {
    "collapsed": true
   },
   "outputs": [],
   "source": [
    "def copying_with_original_copy_of_list1(list1):\n",
    "    '''This method is considered when we want to modify a list and also keep a copy of the original. '''\n",
    "    list2 = list1[:]\n",
    "    return list2\n",
    "\n",
    "def copying_without_original_copy_of_list1(list1): ##both will change if 1 is changed\n",
    "    list2 = list1\n",
    "    return list2\n",
    "\n"
   ]
  },
  {
   "cell_type": "code",
   "execution_count": null,
   "metadata": {
    "collapsed": true
   },
   "outputs": [],
   "source": [
    "'''anagram'''\n"
   ]
  },
  {
   "cell_type": "code",
   "execution_count": 39,
   "metadata": {},
   "outputs": [
    {
     "data": {
      "text/plain": [
       "['acbc',\n",
       " 'cbac',\n",
       " 'bacc',\n",
       " 'bcca',\n",
       " 'cabc',\n",
       " 'abcc',\n",
       " 'bcac',\n",
       " 'accb',\n",
       " 'ccba',\n",
       " 'cbca',\n",
       " 'cacb',\n",
       " 'ccab']"
      ]
     },
     "execution_count": 39,
     "metadata": {},
     "output_type": "execute_result"
    }
   ],
   "source": [
    "'''All anagrams or PERM'''\n",
    "import itertools\n",
    "s = 'abcc'\n",
    "perms = itertools.permutations(s)\n",
    "# type(perms)\n",
    "# print(perms)\n",
    "out = []\n",
    "for perm in perms:\n",
    "#     print(perm)\n",
    "#     print(''.join(perm))\n",
    "    out.append(''.join(perm))\n",
    "    \n",
    "##join just the unique ones\n",
    "# out\n",
    "# np_unique = np.unique(out)  #'''Find the unique elements of an array.'''\n",
    "# print(np_unique)\n",
    "##Another way..is to do SET\n",
    "list(set(out))"
   ]
  },
  {
   "cell_type": "code",
   "execution_count": 40,
   "metadata": {},
   "outputs": [
    {
     "data": {
      "text/plain": [
       "[1, 2, 3, 5, 0, 0, 0]"
      ]
     },
     "execution_count": 40,
     "metadata": {},
     "output_type": "execute_result"
    }
   ],
   "source": [
    "#PYTHONIC\n",
    "'''Given an array nums, write a function to move all 0's to the\n",
    "end of it while maintaining the relative order of the non-zero elements'''\n",
    "def moveZeroes( v):\n",
    "        \"\"\"\n",
    "        :type nums: List[int]\n",
    "        :rtype: void Do not return anything, modify nums in-place instead.\n",
    "        \"\"\"\n",
    "        v[:] = [i for i in v if i!=0]+[0 for j in range(v.count(0))]  ##the splicing is required\n",
    "v = [1,0,2,0,3,0,5]\n",
    "moveZeroes( v)\n",
    "v"
   ]
  },
  {
   "cell_type": "code",
   "execution_count": 41,
   "metadata": {
    "collapsed": true
   },
   "outputs": [],
   "source": [
    "from collections import Counter"
   ]
  },
  {
   "cell_type": "code",
   "execution_count": 42,
   "metadata": {},
   "outputs": [
    {
     "data": {
      "text/plain": [
       "Counter({'2018-01-01': 1, '2018-01-03': 2, '2018-01-04': 1})"
      ]
     },
     "execution_count": 42,
     "metadata": {},
     "output_type": "execute_result"
    }
   ],
   "source": [
    "res = [['2018-01-01', '2018-01-03'], ['2018-01-03', '2018-01-04']]\n",
    "\n",
    "# ret  = []\n",
    "# ret.append(res[i] for i in range(0,len(res)))\n",
    "# ret\n",
    "ret = [i for sublist in res for i in sublist ]\n",
    "count = Counter(ret)\n",
    "count"
   ]
  },
  {
   "cell_type": "code",
   "execution_count": 43,
   "metadata": {},
   "outputs": [
    {
     "data": {
      "text/plain": [
       "'2018-01-03'"
      ]
     },
     "execution_count": 43,
     "metadata": {},
     "output_type": "execute_result"
    }
   ],
   "source": [
    "max_ = max(count.items(), key = lambda k : k[1])\n",
    "max_[0]"
   ]
  },
  {
   "cell_type": "code",
   "execution_count": 44,
   "metadata": {
    "collapsed": true
   },
   "outputs": [],
   "source": [
    "\n",
    "def largestNumber(A):\n",
    "    A = map(str,A)\n",
    "    A_sorted = sorted(A, cmp = lambda a,b : cmp(a+b,b+a),reverse = True)\n",
    "    A_sorted = ''.join(i for i in A_sorted)\n",
    "    A_sorted = A_sorted.lstrip('0')\n",
    "    return A_sorted if A_sorted else \"0\""
   ]
  },
  {
   "cell_type": "code",
   "execution_count": 27,
   "metadata": {
    "collapsed": true
   },
   "outputs": [],
   "source": [
    "#python 3\n",
    "from functools import cmp_to_key\n",
    "A = [3, 30, 34, 5, 9]\n",
    "def largestNumber3(A):\n",
    "    A = map(str,A)\n",
    "    key = cmp_to_key(lambda a,b : 1 if a+b>= b+a else -1)\n",
    "    A_sorted = sorted(A, key = key,reverse = True)\n",
    "    A_sorted = ''.join(i for i in A_sorted)\n",
    "    A_sorted = A_sorted.lstrip('0')\n",
    "    return A_sorted if A_sorted else \"0\""
   ]
  },
  {
   "cell_type": "code",
   "execution_count": 28,
   "metadata": {},
   "outputs": [
    {
     "data": {
      "text/plain": [
       "'0'"
      ]
     },
     "execution_count": 28,
     "metadata": {},
     "output_type": "execute_result"
    }
   ],
   "source": [
    "A = [0,0,0,0]\n",
    "largestNumber3(A)"
   ]
  },
  {
   "cell_type": "code",
   "execution_count": 46,
   "metadata": {},
   "outputs": [
    {
     "data": {
      "text/plain": [
       "[0, 2, 1, 4, 3]"
      ]
     },
     "execution_count": 46,
     "metadata": {},
     "output_type": "execute_result"
    }
   ],
   "source": [
    "#argsort without np\n",
    "A = [1,5,3,7,6]\n",
    "argsort = sorted(range(len(A)), key = A.__getitem__)\n",
    "argsort"
   ]
  },
  {
   "cell_type": "code",
   "execution_count": 53,
   "metadata": {},
   "outputs": [
    {
     "data": {
      "text/plain": [
       "'1 5 3 7 6'"
      ]
     },
     "execution_count": 53,
     "metadata": {},
     "output_type": "execute_result"
    }
   ],
   "source": [
    "A = [1,5,3,7,6]\n",
    "A = map(str,A)\n",
    "' '.join(i for i in A)"
   ]
  },
  {
   "cell_type": "code",
   "execution_count": 49,
   "metadata": {},
   "outputs": [
    {
     "data": {
      "text/plain": [
       "2"
      ]
     },
     "execution_count": 49,
     "metadata": {},
     "output_type": "execute_result"
    }
   ],
   "source": [
    "remaining = 10\n",
    "max_at_this_index = remaining/4\n",
    "max_at_this_index"
   ]
  },
  {
   "cell_type": "code",
   "execution_count": 27,
   "metadata": {
    "collapsed": true
   },
   "outputs": [],
   "source": [
    "r = 2.61e3\n",
    "vt = 0.3\n",
    "l = 1e-6\n",
    "wn = 4.009e-6\n",
    "id_ = 161e-6\n",
    "wp = 5*wn\n",
    "lamb = 0.1\n",
    "ro = 1/(lamb*id_)\n",
    "mup = 0.83e-3\n",
    "k = (mup*wn)/(l)"
   ]
  },
  {
   "cell_type": "code",
   "execution_count": 28,
   "metadata": {},
   "outputs": [
    {
     "data": {
      "text/plain": [
       "0.0014638615644930364"
      ]
     },
     "execution_count": 28,
     "metadata": {},
     "output_type": "execute_result"
    }
   ],
   "source": [
    "gm = 2*(np.sqrt(k*id_))\n",
    "gm\n"
   ]
  },
  {
   "cell_type": "code",
   "execution_count": 31,
   "metadata": {
    "collapsed": true
   },
   "outputs": [],
   "source": [
    "# (gm*ro)**2"
   ]
  },
  {
   "cell_type": "code",
   "execution_count": 32,
   "metadata": {},
   "outputs": [
    {
     "data": {
      "text/plain": [
       "0.001448108087665815"
      ]
     },
     "execution_count": 32,
     "metadata": {},
     "output_type": "execute_result"
    }
   ],
   "source": [
    "Gm = (gm*(1+(gm*ro)))/(2+(ro*gm))\n",
    "Gm"
   ]
  },
  {
   "cell_type": "code",
   "execution_count": 33,
   "metadata": {},
   "outputs": [
    {
     "data": {
      "text/plain": [
       "2885809.8925447245"
      ]
     },
     "execution_count": 33,
     "metadata": {},
     "output_type": "execute_result"
    }
   ],
   "source": [
    "zup = ro+ro+(gm*ro*ro)\n",
    "# zup = (gm*ro*ro)\n",
    "zdown = zup\n",
    "zn = (zup*zdown)/(zup+zdown)\n",
    "zn"
   ]
  },
  {
   "cell_type": "code",
   "execution_count": 34,
   "metadata": {},
   "outputs": [
    {
     "data": {
      "text/plain": [
       "4178.9646448600324"
      ]
     },
     "execution_count": 34,
     "metadata": {},
     "output_type": "execute_result"
    }
   ],
   "source": [
    "gain = zn*Gm\n",
    "gain"
   ]
  },
  {
   "cell_type": "code",
   "execution_count": 11,
   "metadata": {},
   "outputs": [
    {
     "data": {
      "text/plain": [
       "0.21996615514084819"
      ]
     },
     "execution_count": 11,
     "metadata": {},
     "output_type": "execute_result"
    }
   ],
   "source": [
    "vdd = 2.5\n",
    "vgst = np.sqrt(id_/k)\n",
    "vgst"
   ]
  },
  {
   "cell_type": "code",
   "execution_count": 12,
   "metadata": {},
   "outputs": [
    {
     "data": {
      "text/plain": [
       "1.0201353794366073"
      ]
     },
     "execution_count": 12,
     "metadata": {},
     "output_type": "execute_result"
    }
   ],
   "source": [
    "swing = vdd- (4*vgst) - (2*vt)\n",
    "swing"
   ]
  },
  {
   "cell_type": "code",
   "execution_count": 26,
   "metadata": {},
   "outputs": [
    {
     "data": {
      "text/plain": [
       "0.0"
      ]
     },
     "execution_count": 26,
     "metadata": {},
     "output_type": "execute_result"
    }
   ],
   "source": [
    "A = 6\n",
    "B = 1\n",
    "C = 5\n",
    "D = C\n",
    "E = 8\n",
    "Iref = 91e-6\n",
    "icopy = Iref*(((B*E)/(A*D))-float(C/A))\n",
    "# icopy\n",
    "float(C/A)"
   ]
  }
 ],
 "metadata": {
  "kernelspec": {
   "display_name": "Python 2",
   "language": "python",
   "name": "python2"
  },
  "language_info": {
   "codemirror_mode": {
    "name": "ipython",
    "version": 2
   },
   "file_extension": ".py",
   "mimetype": "text/x-python",
   "name": "python",
   "nbconvert_exporter": "python",
   "pygments_lexer": "ipython2",
   "version": "2.7.14"
  }
 },
 "nbformat": 4,
 "nbformat_minor": 2
}
